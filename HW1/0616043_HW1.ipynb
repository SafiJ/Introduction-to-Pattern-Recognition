{
 "cells": [
  {
   "cell_type": "markdown",
   "metadata": {},
   "source": [
    "## HW1: Linear Regression using Gradient Descent\n",
    "In hw1, you need to implement linear regression by using only numpy, then train your implemented model by the provided dataset and test the performance with testing data\n",
    "\n",
    "Please note that only **NUMPY** can be used to implement your model, you will get no points by simply calling sklearn.linear_model.LinearRegression"
   ]
  },
  {
   "cell_type": "code",
   "execution_count": 1,
   "metadata": {},
   "outputs": [],
   "source": [
    "import numpy as np \n",
    "import pandas as pd\n",
    "import matplotlib.pyplot as plt"
   ]
  },
  {
   "cell_type": "markdown",
   "metadata": {},
   "source": [
    "## Load data"
   ]
  },
  {
   "cell_type": "code",
   "execution_count": 2,
   "metadata": {},
   "outputs": [],
   "source": [
    "train_df = pd.read_csv(\"train_data.csv\")\n",
    "x_train, y_train = train_df['x_train'], train_df['y_train']"
   ]
  },
  {
   "cell_type": "code",
   "execution_count": 17,
   "metadata": {},
   "outputs": [
    {
     "data": {
      "text/plain": [
       "[<matplotlib.lines.Line2D at 0x18781919128>]"
      ]
     },
     "execution_count": 17,
     "metadata": {},
     "output_type": "execute_result"
    },
    {
     "data": {
      "image/png": "[encoded data removed]",
      "text/plain": [
       "<Figure size 432x288 with 1 Axes>"
      ]
     },
     "metadata": {
      "needs_background": "light"
     },
     "output_type": "display_data"
    }
   ],
   "source": [
    "plt.axis('equal')\n",
    "plt.plot(x_train, y_train, '.')"
   ]
  },
  {
   "cell_type": "markdown",
   "metadata": {},
   "source": [
    "## Train your model \n",
    "### Pseudo code:\n",
    "1. Random initialize the weights, intercepts of the linear model\n",
    "\n",
    "**for i in range(iteration)**\n",
    "\n",
    "    2. Feed foward the training data into the model, get the output prediction\n",
    "    3. Calculating training loss by Mean Square Error of predcition and ground truth data\n",
    "    4. Calculating the gradients\n",
    "    5. Updating the weights and intercepts by the gradients * learning rate \n",
    "    \n",
    "**End of training**"
   ]
  },
  {
   "cell_type": "code",
   "execution_count": 4,
   "metadata": {},
   "outputs": [],
   "source": [
    "def cal_loss(predictions, target):\n",
    "    n = len(target) # n elements\n",
    "    cost = (1/n) * np.sum(np.square(predictions-target)) # calculating MSE\n",
    "    return cost\n"
   ]
  },
  {
   "cell_type": "code",
   "execution_count": 18,
   "metadata": {},
   "outputs": [],
   "source": [
    "def gradient_descent(x_train, y_train, learning_rate=10**-4, iterations=100):\n",
    "    # initializing value a, b\n",
    "    a = np.random.rand()\n",
    "    b = 2*np.random.rand()\n",
    "    \n",
    "    data_size = len(x_train)\n",
    "    preds = [a + b*x for x in x_train] # initial prediction\n",
    "    global loss\n",
    "    loss = []\n",
    "    \n",
    "    for training in range(iterations):\n",
    "        grad_a, grad_b = 0, 0\n",
    "        for i in range(data_size): # calculating gradient_a, gradient_b\n",
    "            cost_i = preds[i] - y_train[i]\n",
    "            grad_a = grad_a + cost_i\n",
    "            grad_b = grad_b + cost_i*x_train[i]\n",
    "            \n",
    "        a = a - learning_rate * (2/data_size) * grad_a\n",
    "        b = b - learning_rate * (2/data_size) * grad_b\n",
    "        preds = [a + b*x for x in x_train] # renew predictions\n",
    "        loss.append(cal_loss(preds, y_train))\n",
    "        \n",
    "    return a, b"
   ]
  },
  {
   "cell_type": "code",
   "execution_count": 91,
   "metadata": {},
   "outputs": [],
   "source": [
    "loss = []\n",
    "intercept, slope = 0, 0\n",
    "learning_rate = 5e-4\n",
    "iterations = 5000\n",
    "\n",
    "def model(data):\n",
    "    # assume the equation => y = a + bx\n",
    "    a, b = gradient_descent(x_train, y_train, learning_rate, iterations)\n",
    "    global intercept, slope\n",
    "    intercept, slope = a, b\n",
    "    return [x*b + a for x in data]\n"
   ]
  },
  {
   "cell_type": "markdown",
   "metadata": {},
   "source": [
    "## Test the performance on the testing data\n",
    "Inference the test data (x_test) by your model and calculate the MSE of (y_test, y_pred)"
   ]
  },
  {
   "cell_type": "code",
   "execution_count": 92,
   "metadata": {},
   "outputs": [],
   "source": [
    "test_data = pd.read_csv(\"test_data.csv\")\n",
    "x_test, y_test = test_data['x_test'], test_data['y_test']"
   ]
  },
  {
   "cell_type": "code",
   "execution_count": 93,
   "metadata": {},
   "outputs": [],
   "source": [
    "y_pred = model(x_test)\n",
    "\n",
    "# calculating MSE of testing data\n",
    "test_size = len(x_test)\n",
    "MSE = (1/test_size) * np.sum(np.square(y_pred - y_test))"
   ]
  },
  {
   "cell_type": "code",
   "execution_count": 94,
   "metadata": {},
   "outputs": [
    {
     "name": "stdout",
     "output_type": "stream",
     "text": [
      "learning rate 0.0005\n",
      "iterations    5000\n"
     ]
    },
    {
     "data": {
      "text/plain": [
       "[<matplotlib.lines.Line2D at 0x187831d57f0>]"
      ]
     },
     "execution_count": 94,
     "metadata": {},
     "output_type": "execute_result"
    },
    {
     "data": {
      "image/png": "[encoded data removed]",
      "text/plain": [
       "<Figure size 432x288 with 1 Axes>"
      ]
     },
     "metadata": {
      "needs_background": "light"
     },
     "output_type": "display_data"
    }
   ],
   "source": [
    "print(\"learning rate {}\".format(learning_rate))\n",
    "print(\"iterations    {}\".format(iterations))\n",
    "\n",
    "plt.xlabel('iterations')\n",
    "plt.ylabel('loss')\n",
    "plt.plot(range(iterations), loss)"
   ]
  },
  {
   "cell_type": "code",
   "execution_count": 96,
   "metadata": {},
   "outputs": [
    {
     "name": "stdout",
     "output_type": "stream",
     "text": [
      "intercept     0.7826253763957964\n",
      "weight        0.8230946906820291\n",
      "MSE           0.06794883148135622\n"
     ]
    },
    {
     "data": {
      "image/png": "[encoded data removed]",
      "text/plain": [
       "<Figure size 432x288 with 1 Axes>"
      ]
     },
     "metadata": {
      "needs_background": "light"
     },
     "output_type": "display_data"
    }
   ],
   "source": [
    "print(\"intercept     {}\".format(intercept))\n",
    "print(\"weight        {}\".format(slope))\n",
    "print(\"MSE           {}\".format(MSE))\n",
    "\n",
    "plt.xlabel('x_test')\n",
    "plt.ylabel('y_test / predict')\n",
    "plt.plot(x_test, y_test, '.', label='ground truth')\n",
    "plt.plot(x_test, y_pred, '-', label='prediction line')\n",
    "info = plt.legend(loc='best', shadow='True')"
   ]
  },
  {
   "cell_type": "code",
   "execution_count": null,
   "metadata": {},
   "outputs": [],
   "source": []
  }
 ],
 "metadata": {
  "kernelspec": {
   "display_name": "Python 3",
   "language": "python",
   "name": "python3"
  },
  "language_info": {
   "codemirror_mode": {
    "name": "ipython",
    "version": 3
   },
   "file_extension": ".py",
   "mimetype": "text/x-python",
   "name": "python",
   "nbconvert_exporter": "python",
   "pygments_lexer": "ipython3",
   "version": "3.7.1"
  }
 },
 "nbformat": 4,
 "nbformat_minor": 4
}
