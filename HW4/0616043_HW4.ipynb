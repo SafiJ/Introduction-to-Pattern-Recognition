{
 "cells": [
  {
   "cell_type": "code",
   "execution_count": 1,
   "metadata": {},
   "outputs": [],
   "source": [
    "import numpy as np\n",
    "import pandas as pd\n",
    "from sklearn.svm import SVC, SVR\n",
    "from sklearn.metrics import accuracy_score\n",
    "import matplotlib.pyplot as plt\n",
    "import seaborn as sns\n",
    "%matplotlib inline"
   ]
  },
  {
   "cell_type": "markdown",
   "metadata": {},
   "source": [
    "## Load data"
   ]
  },
  {
   "cell_type": "code",
   "execution_count": 2,
   "metadata": {},
   "outputs": [],
   "source": [
    "x_train = np.load(\"x_train.npy\")\n",
    "y_train = np.load(\"y_train.npy\")\n",
    "x_test = np.load(\"x_test.npy\")\n",
    "y_test = np.load(\"y_test.npy\")"
   ]
  },
  {
   "cell_type": "code",
   "execution_count": 3,
   "metadata": {},
   "outputs": [
    {
     "name": "stdout",
     "output_type": "stream",
     "text": [
      "(550, 300)\n"
     ]
    }
   ],
   "source": [
    "# 550 data with 300 features\n",
    "print(x_train.shape)"
   ]
  },
  {
   "cell_type": "code",
   "execution_count": 4,
   "metadata": {},
   "outputs": [
    {
     "name": "stdout",
     "output_type": "stream",
     "text": [
      "[0 1]\n"
     ]
    }
   ],
   "source": [
    "# It's a binary classification problem \n",
    "print(np.unique(y_train))"
   ]
  },
  {
   "cell_type": "markdown",
   "metadata": {},
   "source": [
    "## Question 1\n",
    "K-fold data partition: Implement the K-fold cross-validation function. Your function should take K as an argument and return a list of lists (len(list) should equal to K), which contains K elements. Each element is a list contains two parts, the first part contains the index of all training folds, e.g. Fold 2 to Fold 5 in split 1. The second part contains the index of validation fold, e.g. Fold 1 in  split 1"
   ]
  },
  {
   "cell_type": "code",
   "execution_count": 5,
   "metadata": {},
   "outputs": [],
   "source": [
    "def cross_validation(x_train, y_train, k=5):\n",
    "    _shuffle = np.arange(len(x_train))\n",
    "    np.random.shuffle(_shuffle)\n",
    "    _kfold_data = []\n",
    "    if len(x_train) / k == len(x_train) // k:\n",
    "        fold_base = len(x_train) // k\n",
    "        for i in range(k):\n",
    "            group = []\n",
    "            valid = np.array(_shuffle[i*fold_base:i*fold_base+fold_base])\n",
    "            _train = []\n",
    "            for data in _shuffle:\n",
    "                if data not in valid:\n",
    "                    _train.append(data)\n",
    "\n",
    "            train = np.array(_train)\n",
    "            group.append(train)\n",
    "            group.append(valid)\n",
    "            _kfold_data.append(group)\n",
    "    else:\n",
    "        fold_base = len(x_train) // k + 1\n",
    "        group = []\n",
    "        valid = np.array(_shuffle[:fold_base])\n",
    "        train = np.array(_shuffle[fold_base:])\n",
    "        group.append(train)\n",
    "        group.append(valid)\n",
    "        _kfold_data.append(group)\n",
    "        \n",
    "        fold_base -= 1\n",
    "        for i in range(1, k):\n",
    "            group = []\n",
    "            valid = np.array(_shuffle[(i-1)*fold_base+(fold_base+1):(i-1)*fold_base+(fold_base+1)+fold_base])\n",
    "            _train = []\n",
    "            for data in _shuffle:\n",
    "                if data not in valid:\n",
    "                    _train.append(data)\n",
    "            \n",
    "            train = np.array(_train)\n",
    "            group.append(train)\n",
    "            group.append(valid)\n",
    "            _kfold_data.append(group)\n",
    "\n",
    "    return _kfold_data"
   ]
  },
  {
   "cell_type": "code",
   "execution_count": 6,
   "metadata": {},
   "outputs": [],
   "source": [
    "kfold_data = cross_validation(x_train, y_train, k=10)\n",
    "assert len(kfold_data) == 10 # should contain 10 fold of data\n",
    "assert len(kfold_data[0]) == 2 # each element should contain train fold and validation fold\n",
    "assert kfold_data[0][1].shape[0] == 55 # The number of data in each validation fold should equal to training data divieded by K"
   ]
  },
  {
   "cell_type": "markdown",
   "metadata": {},
   "source": [
    "## example"
   ]
  },
  {
   "cell_type": "code",
   "execution_count": 7,
   "metadata": {},
   "outputs": [
    {
     "name": "stdout",
     "output_type": "stream",
     "text": [
      "Split: 1, Training index: [ 0  1  2  5  6  8  9 10 11 12 13 14 15 17 18 19], Validation index: [ 3  4  7 16]\n",
      "Split: 2, Training index: [ 1  2  3  4  6  7  8  9 10 11 12 14 16 17 18 19], Validation index: [ 0  5 13 15]\n",
      "Split: 3, Training index: [ 0  1  2  3  4  5  6  7  8  9 10 13 15 16 17 18], Validation index: [11 12 14 19]\n",
      "Split: 4, Training index: [ 0  3  4  5  6  7  8 11 12 13 14 15 16 17 18 19], Validation index: [ 1  2  9 10]\n",
      "Split: 5, Training index: [ 0  1  2  3  4  5  7  9 10 11 12 13 14 15 16 19], Validation index: [ 6  8 17 18]\n"
     ]
    }
   ],
   "source": [
    "from sklearn.model_selection import KFold\n",
    "\n",
    "X = np.arange(20)\n",
    "kf = KFold(n_splits=5, shuffle=True)\n",
    "kfold_data= []\n",
    "for i, (train_index, val_index) in enumerate(kf.split(X)):\n",
    "    print(\"Split: %s, Training index: %s, Validation index: %s\" % (i+1, train_index, val_index))\n",
    "    kfold_data.append([train_index, val_index])"
   ]
  },
  {
   "cell_type": "code",
   "execution_count": 8,
   "metadata": {},
   "outputs": [],
   "source": [
    "assert len(kfold_data) == 5 # should contain 5 fold of data\n",
    "assert len(kfold_data[0]) == 2 # each element should contains index of training fold and validation fold\n",
    "assert kfold_data[0][1].shape[0] == 4 # The number of data in each validation fold should equal to training data divieded by K"
   ]
  },
  {
   "cell_type": "markdown",
   "metadata": {},
   "source": [
    "## Question 2\n",
    "Using sklearn.svm.SVC to train a classifier on the provided train set and conduct the grid search of “C”, “kernel” and “gamma” to find the best parameters by cross-validation."
   ]
  },
  {
   "cell_type": "code",
   "execution_count": 9,
   "metadata": {},
   "outputs": [],
   "source": [
    "clf = SVC(C=1.0, kernel='rbf', gamma=0.01)"
   ]
  },
  {
   "cell_type": "code",
   "execution_count": 10,
   "metadata": {},
   "outputs": [],
   "source": [
    "## your code\n",
    "C_range = np.logspace(-2, 4, 7)\n",
    "gamma_range = np.logspace(-4, 3, 8)\n",
    "all_score = np.zeros((7, 8))\n",
    "k_split = 5\n",
    "svc_train = cross_validation(x_train, y_train, k=k_split)\n",
    "best_score = 0\n",
    "best_parameters = {}\n",
    "for c in range(len(C_range)):\n",
    "    for gamma in range(len(gamma_range)):\n",
    "        avg_score = 0\n",
    "        for split in range(len(svc_train)):\n",
    "            train_X, train_y, valid_X, valid_y = [], [], [], []\n",
    "            for train in svc_train[split][0]:\n",
    "                train_X.append(x_train[train][:])\n",
    "                train_y.append(y_train[train])\n",
    "            \n",
    "            for valid in svc_train[split][1]:\n",
    "                valid_X.append(x_train[valid][:])\n",
    "                valid_y.append(y_train[valid])\n",
    "            \n",
    "            svm = SVC(C=C_range[c], gamma=gamma_range[gamma])\n",
    "            svm.fit(train_X, train_y)\n",
    "            avg_score += svm.score(valid_X, valid_y)\n",
    "        \n",
    "        avg_score /= k_split\n",
    "        all_score[c][gamma] = avg_score\n",
    "        if avg_score > best_score:\n",
    "            best_score = avg_score\n",
    "            best_parameters = {'C':C_range[c], 'gamma':gamma_range[gamma]}"
   ]
  },
  {
   "cell_type": "code",
   "execution_count": 11,
   "metadata": {},
   "outputs": [
    {
     "name": "stdout",
     "output_type": "stream",
     "text": [
      "{'C': 10.0, 'gamma': 0.001}\n"
     ]
    }
   ],
   "source": [
    "print(best_parameters)"
   ]
  },
  {
   "cell_type": "markdown",
   "metadata": {},
   "source": [
    "## Question 3\n",
    "Plot the grid search results of your SVM. The x, y represents the hyperparameters of “gamma” and “C”, respectively. And the color represents the average score of validation folds\n",
    "You reults should be look like the reference image ![image](https://miro.medium.com/max/1296/1*wGWTup9r4cVytB5MOnsjdQ.png) "
   ]
  },
  {
   "cell_type": "code",
   "execution_count": 12,
   "metadata": {},
   "outputs": [
    {
     "data": {
      "text/plain": [
       "[Text(69.0, 0.5, 'C Parameter'),\n",
       " Text(0.5, 33.0, 'Gamma Parameter'),\n",
       " Text(0.5, 1.0, 'Hyperparameter Gridsearch')]"
      ]
     },
     "execution_count": 12,
     "metadata": {},
     "output_type": "execute_result"
    },
    {
     "data": {
      "image/png": "[encoded data removed]",
      "text/plain": [
       "<Figure size 720x432 with 2 Axes>"
      ]
     },
     "metadata": {
      "needs_background": "light"
     },
     "output_type": "display_data"
    }
   ],
   "source": [
    "fig, ax = plt.subplots(figsize=(10,6))\n",
    "sns.heatmap(all_score, xticklabels=gamma_range, yticklabels=C_range, annot=True, cmap='RdBu')\n",
    "ax.set(xlabel='Gamma Parameter', ylabel='C Parameter', title='Hyperparameter Gridsearch')"
   ]
  },
  {
   "cell_type": "markdown",
   "metadata": {},
   "source": [
    "## Question 4\n",
    "Train your SVM model by the best parameters you found from question 2 on the whole training set and evaluate the performance on the test set. **You accuracy should over 0.85**"
   ]
  },
  {
   "cell_type": "code",
   "execution_count": 13,
   "metadata": {},
   "outputs": [
    {
     "data": {
      "text/plain": [
       "SVC(C=10.0, cache_size=200, class_weight=None, coef0=0.0,\n",
       "  decision_function_shape='ovr', degree=3, gamma=0.001, kernel='rbf',\n",
       "  max_iter=-1, probability=False, random_state=None, shrinking=True,\n",
       "  tol=0.001, verbose=False)"
      ]
     },
     "execution_count": 13,
     "metadata": {},
     "output_type": "execute_result"
    }
   ],
   "source": [
    "best_model = SVC(C=best_parameters['C'], gamma=best_parameters['gamma'])\n",
    "best_model.fit(x_train, y_train)"
   ]
  },
  {
   "cell_type": "code",
   "execution_count": 14,
   "metadata": {},
   "outputs": [
    {
     "name": "stdout",
     "output_type": "stream",
     "text": [
      "Accuracy score:  0.8958333333333334\n"
     ]
    }
   ],
   "source": [
    "y_pred = best_model.predict(x_test)\n",
    "print(\"Accuracy score: \", accuracy_score(y_test, y_pred))"
   ]
  },
  {
   "cell_type": "markdown",
   "metadata": {},
   "source": [
    "## Question 5\n",
    "Compare the performance of each model you have implemented from HW1"
   ]
  },
  {
   "cell_type": "markdown",
   "metadata": {},
   "source": [
    "### HW1"
   ]
  },
  {
   "cell_type": "code",
   "execution_count": 15,
   "metadata": {},
   "outputs": [],
   "source": [
    "train_df = pd.read_csv(\"./HW1/train_data.csv\")\n",
    "x_train = train_df['x_train'].to_numpy().reshape(-1,1)\n",
    "y_train = train_df['y_train'].to_numpy().reshape(-1,1)\n",
    "\n",
    "test_df = pd.read_csv(\"./HW1/test_data.csv\")\n",
    "x_test = test_df['x_test'].to_numpy().reshape(-1,1)\n",
    "y_test = test_df['y_test'].to_numpy().reshape(-1,)"
   ]
  },
  {
   "cell_type": "code",
   "execution_count": 16,
   "metadata": {},
   "outputs": [],
   "source": [
    "k_split = 5\n",
    "svr_train = cross_validation(x_train, y_train, k=k_split)\n",
    "best_score = 0\n",
    "best_parameters = {}\n",
    "all_score = np.zeros((7,8))\n",
    "for c in range(len(C_range)):\n",
    "    for gamma in range(len(gamma_range)):\n",
    "        avg_score = 0\n",
    "        for split in range(len(svr_train)):\n",
    "            train_X, train_y, valid_X, valid_y = [], [], [], []\n",
    "            for train in svr_train[split][0]:\n",
    "                train_X.append(x_train[train][:])\n",
    "                train_y.append(y_train[train][0])\n",
    "            \n",
    "            for valid in svr_train[split][1]:\n",
    "                valid_X.append(x_train[valid][:])\n",
    "                valid_y.append(y_train[valid][0])\n",
    "            \n",
    "            svm = SVR(C=C_range[c], gamma=gamma_range[gamma])\n",
    "            svm.fit(train_X, train_y)\n",
    "            avg_score += svm.score(valid_X, valid_y)\n",
    "        \n",
    "        avg_score /= k_split\n",
    "        all_score[c][gamma] = avg_score\n",
    "        if avg_score > best_score:\n",
    "            best_score = avg_score\n",
    "            best_parameters = {'C':C_range[c], 'gamma':gamma_range[gamma]}"
   ]
  },
  {
   "cell_type": "code",
   "execution_count": 17,
   "metadata": {},
   "outputs": [
    {
     "name": "stdout",
     "output_type": "stream",
     "text": [
      "best_parameters:  {'C': 1000.0, 'gamma': 0.001}\n"
     ]
    },
    {
     "name": "stderr",
     "output_type": "stream",
     "text": [
      "C:\\Users\\ilike\\Anaconda3\\lib\\site-packages\\sklearn\\utils\\validation.py:761: DataConversionWarning: A column-vector y was passed when a 1d array was expected. Please change the shape of y to (n_samples, ), for example using ravel().\n",
      "  y = column_or_1d(y, warn=True)\n"
     ]
    }
   ],
   "source": [
    "print(\"best_parameters: \", best_parameters)\n",
    "svr_model = SVR(C=best_parameters['C'], gamma=best_parameters['gamma'])\n",
    "svr_model.fit(x_train, y_train)\n",
    "y_pred = svr_model.predict(x_test)\n",
    "MSE_svr = np.mean((y_test - y_pred)**2)"
   ]
  },
  {
   "cell_type": "code",
   "execution_count": 18,
   "metadata": {},
   "outputs": [
    {
     "name": "stdout",
     "output_type": "stream",
     "text": [
      "Mean square error of Linear regression:  0.06794883148135622\n",
      "Mean square error of SVM regresssion model:  0.07200436935357739\n"
     ]
    }
   ],
   "source": [
    "print(\"Mean square error of Linear regression: \", 0.06794883148135622)\n",
    "print(\"Mean square error of SVM regresssion model: \", MSE_svr)"
   ]
  },
  {
   "cell_type": "code",
   "execution_count": 19,
   "metadata": {},
   "outputs": [
    {
     "data": {
      "text/plain": [
       "[Text(69.0, 0.5, 'C Parameter'),\n",
       " Text(0.5, 33.0, 'Gamma Parameter'),\n",
       " Text(0.5, 1.0, 'Hyperparameter Gridsearch')]"
      ]
     },
     "execution_count": 19,
     "metadata": {},
     "output_type": "execute_result"
    },
    {
     "data": {
      "image/png": "[encoded data removed]",
      "text/plain": [
       "<Figure size 720x432 with 2 Axes>"
      ]
     },
     "metadata": {
      "needs_background": "light"
     },
     "output_type": "display_data"
    }
   ],
   "source": [
    "fig, ax = plt.subplots(figsize=(10,6))\n",
    "sns.heatmap(all_score, xticklabels=gamma_range, yticklabels=C_range, annot=True, cmap='RdBu')\n",
    "ax.set(xlabel='Gamma Parameter', ylabel='C Parameter', title='Hyperparameter Gridsearch')"
   ]
  },
  {
   "cell_type": "code",
   "execution_count": null,
   "metadata": {},
   "outputs": [],
   "source": []
  }
 ],
 "metadata": {
  "kernelspec": {
   "display_name": "Python 3",
   "language": "python",
   "name": "python3"
  },
  "language_info": {
   "codemirror_mode": {
    "name": "ipython",
    "version": 3
   },
   "file_extension": ".py",
   "mimetype": "text/x-python",
   "name": "python",
   "nbconvert_exporter": "python",
   "pygments_lexer": "ipython3",
   "version": "3.7.1"
  }
 },
 "nbformat": 4,
 "nbformat_minor": 4
}
