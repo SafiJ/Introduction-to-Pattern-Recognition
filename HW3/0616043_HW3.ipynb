{
 "cells": [
  {
   "cell_type": "markdown",
   "metadata": {},
   "source": [
    "## HW3: Decision Tree and Random Forest\n",
    "In hw3, you need to implement decision tree and random forest by using only numpy, then train your implemented model by the provided dataset and test the performance with testing data\n",
    "\n",
    "Please note that only **NUMPY** can be used to implement your model, you will get no points by simply calling sklearn.tree.DecisionTreeClassifier"
   ]
  },
  {
   "cell_type": "code",
   "execution_count": 1,
   "metadata": {},
   "outputs": [
    {
     "name": "stdout",
     "output_type": "stream",
     "text": [
      "Requirement already satisfied: sklearn in c:\\users\\ilike\\anaconda3\\lib\\site-packages (0.0)\n",
      "Requirement already satisfied: scikit-learn in c:\\users\\ilike\\anaconda3\\lib\\site-packages (from sklearn) (0.20.1)\n",
      "Requirement already satisfied: numpy>=1.8.2 in c:\\users\\ilike\\anaconda3\\lib\\site-packages (from scikit-learn->sklearn) (1.15.4)\n",
      "Requirement already satisfied: scipy>=0.13.3 in c:\\users\\ilike\\anaconda3\\lib\\site-packages (from scikit-learn->sklearn) (1.1.0)\n"
     ]
    }
   ],
   "source": [
    "!pip install sklearn"
   ]
  },
  {
   "cell_type": "markdown",
   "metadata": {},
   "source": [
    "## Load data"
   ]
  },
  {
   "cell_type": "code",
   "execution_count": 21,
   "metadata": {},
   "outputs": [],
   "source": [
    "import numpy as np\n",
    "import pandas as pd\n",
    "from sklearn.datasets import load_breast_cancer\n",
    "from sklearn.metrics import accuracy_score\n",
    "import math\n",
    "import random\n",
    "import matplotlib.pyplot as plt\n",
    "import time"
   ]
  },
  {
   "cell_type": "code",
   "execution_count": 3,
   "metadata": {},
   "outputs": [
    {
     "name": "stdout",
     "output_type": "stream",
     "text": [
      "['mean radius' 'mean texture' 'mean perimeter' 'mean area'\n",
      " 'mean smoothness' 'mean compactness' 'mean concavity'\n",
      " 'mean concave points' 'mean symmetry' 'mean fractal dimension'\n",
      " 'radius error' 'texture error' 'perimeter error' 'area error'\n",
      " 'smoothness error' 'compactness error' 'concavity error'\n",
      " 'concave points error' 'symmetry error' 'fractal dimension error'\n",
      " 'worst radius' 'worst texture' 'worst perimeter' 'worst area'\n",
      " 'worst smoothness' 'worst compactness' 'worst concavity'\n",
      " 'worst concave points' 'worst symmetry' 'worst fractal dimension']\n"
     ]
    }
   ],
   "source": [
    "data = load_breast_cancer()\n",
    "feature_names = data['feature_names']\n",
    "print(feature_names)"
   ]
  },
  {
   "cell_type": "code",
   "execution_count": 4,
   "metadata": {},
   "outputs": [],
   "source": [
    "x_train = pd.read_csv(\"x_train.csv\")\n",
    "y_train = pd.read_csv(\"y_train.csv\")\n",
    "x_test = pd.read_csv(\"x_test.csv\")\n",
    "y_test = pd.read_csv(\"y_test.csv\")"
   ]
  },
  {
   "cell_type": "code",
   "execution_count": 5,
   "metadata": {},
   "outputs": [
    {
     "data": {
      "text/plain": [
       "0.1076"
      ]
     },
     "execution_count": 5,
     "metadata": {},
     "output_type": "execute_result"
    }
   ],
   "source": [
    "a = x_train.values.tolist()\n",
    "#a = np.array(x_train)\n",
    "b = np.array(y_train)\n",
    "c = x_test.values.tolist()\n",
    "#c = np.array(x_test)\n",
    "d = np.array(y_test)"
   ]
  },
  {
   "cell_type": "markdown",
   "metadata": {},
   "source": [
    "## Question 1\n",
    "Gini Index or Entropy is often used for measuring the “best” splitting of the data. Please compute the Entropy and Gini Index of provided data. Please use the formula from page 666 on the textbook"
   ]
  },
  {
   "cell_type": "code",
   "execution_count": 6,
   "metadata": {},
   "outputs": [],
   "source": [
    "def gini(sequence):\n",
    "    if len(sequence) == 0:\n",
    "        return 0\n",
    "    \n",
    "    n = len(sequence)\n",
    "    p0, p1, p2 = 0, 0, 0\n",
    "    for kind in sequence:\n",
    "        if kind == 0:\n",
    "            p0 += 1\n",
    "        elif kind == 1:\n",
    "            p1 += 1\n",
    "        elif kind == 2:\n",
    "            p2 += 1\n",
    "            \n",
    "    p0 /= n\n",
    "    p1 /= n\n",
    "    p2 /= n\n",
    "    impurity = 1 - p0**2 - p1**2 - p2**2\n",
    "    return impurity\n",
    "\n",
    "def entropy(sequence):\n",
    "    if len(sequence) == 0:\n",
    "        return 0\n",
    "    \n",
    "    n = len(sequence)\n",
    "    p0, p1, p2 = 0, 0, 0\n",
    "    for kind in sequence:\n",
    "        if kind == 0:\n",
    "            p0 += 1\n",
    "        elif kind == 1:\n",
    "            p1 += 1\n",
    "        elif kind == 2:\n",
    "            p2 += 1\n",
    "    \n",
    "    p1 /= n\n",
    "    if p2 > 0:\n",
    "        p2 /= n\n",
    "        impurity = -(p1*math.log2(p1) + p2*math.log2(p2))\n",
    "    else:\n",
    "        p0 /= n\n",
    "        if p0 == 0 or p1 == 0:\n",
    "            return 1\n",
    "        impurity = -(p0*math.log2(p0) + p1*math.log2(p1))\n",
    "    return impurity"
   ]
  },
  {
   "cell_type": "code",
   "execution_count": 7,
   "metadata": {},
   "outputs": [],
   "source": [
    "# 1 = class 1,\n",
    "# 2 = class 2\n",
    "data = np.array([1,2,1,1,1,1,2,2,1,1,2])"
   ]
  },
  {
   "cell_type": "code",
   "execution_count": 8,
   "metadata": {},
   "outputs": [
    {
     "name": "stdout",
     "output_type": "stream",
     "text": [
      "Gini of data is  0.4628099173553719\n"
     ]
    }
   ],
   "source": [
    "print(\"Gini of data is \", gini(data))"
   ]
  },
  {
   "cell_type": "code",
   "execution_count": 9,
   "metadata": {},
   "outputs": [
    {
     "name": "stdout",
     "output_type": "stream",
     "text": [
      "Entropy of data is  0.9456603046006402\n"
     ]
    }
   ],
   "source": [
    "print(\"Entropy of data is \", entropy(data))"
   ]
  },
  {
   "cell_type": "markdown",
   "metadata": {},
   "source": [
    "## Question 2\n",
    "Implement the Decision Tree algorithm (CART, Classification and Regression Trees) and trained the model by the given arguments, and print the accuracy score on the test data. You should implement two arguments for the Decision Tree algorithm\n",
    "1. **Criterion**: The function to measure the quality of a split. Your model should support “gini” for the Gini impurity and “entropy” for the information gain. \n",
    "2. **Max_depth**: The maximum depth of the tree. If Max_depth=None, then nodes are expanded until all leaves are pure. Max_depth=1 equals to split data once\n"
   ]
  },
  {
   "cell_type": "code",
   "execution_count": 10,
   "metadata": {},
   "outputs": [],
   "source": [
    "features = x_train.columns"
   ]
  },
  {
   "cell_type": "code",
   "execution_count": 11,
   "metadata": {},
   "outputs": [],
   "source": [
    "class Question:\n",
    "    def __init__(self, feature, pivot):\n",
    "        self.feature = feature\n",
    "        self.pivot = pivot\n",
    "        \n",
    "def partition(data, res, feature, pivot):\n",
    "    # true: left, false: right\n",
    "    left, right, left_res, right_res = [], [], [], []\n",
    "    for i in range(len(data)):\n",
    "        if data[i][feature] >= pivot:\n",
    "            left.append(data[i][:])\n",
    "            left_res.append(res[i])\n",
    "        else:\n",
    "            right.append(data[i][:])\n",
    "            right_res.append(res[i])\n",
    "            \n",
    "    return left, right, left_res, right_res"
   ]
  },
  {
   "cell_type": "code",
   "execution_count": 12,
   "metadata": {},
   "outputs": [],
   "source": [
    "def info_gain(parent, left, right, criterion):\n",
    "    p = float(len(left)) / (len(left) + len(right))\n",
    "    if criterion == 'gini':\n",
    "        return gini(parent) - p * gini(left) - (1 - p) * gini(right)\n",
    "    elif criterion == 'entropy':\n",
    "        return entropy(parent) - p * entropy(left) - (1 - p) * entropy(right)\n",
    "    \n",
    "def best_split(data, res, criterion):\n",
    "    best_gain = 0\n",
    "    question = None\n",
    "    left, right, left_res, right_res = [], [], [], []\n",
    "    for feature in range(len(features)):\n",
    "        for i in range(len(data)):\n",
    "            left, right, left_res, right_res = partition(data, res, feature, data[i][feature])\n",
    "            gain = info_gain(res, left_res, right_res, criterion)\n",
    "            if gain > best_gain:\n",
    "                best_gain = gain\n",
    "                question = Question(feature, data[i][feature])\n",
    "                \n",
    "    return question\n",
    "\n",
    "def split(data, res, criterion, feats):\n",
    "    best_gain = 0\n",
    "    question = None\n",
    "    left, right, left_res, right_res = [], [], [], []\n",
    "    for feature in feats:\n",
    "        for i in range(len(data)):\n",
    "            left, right, left_res, right_res = partition(data, res, feature, data[i][feature])\n",
    "            gain = info_gain(res, left_res, right_res, criterion)\n",
    "            if gain > best_gain:\n",
    "                best_gain = gain\n",
    "                question = Question(feature, data[i][feature])\n",
    "    \n",
    "    return question"
   ]
  },
  {
   "cell_type": "code",
   "execution_count": 13,
   "metadata": {},
   "outputs": [],
   "source": [
    "class Node:\n",
    "    def __init__(self, data, res, criterion, depth, question):\n",
    "        self.data = data\n",
    "        self.res = res\n",
    "        self.criterion = criterion\n",
    "        self.depth = depth\n",
    "        self.question = question\n",
    "        self.isLeaf = False\n",
    "        self.left = None\n",
    "        self.right = None\n",
    "        \n",
    "class DecisionTree:\n",
    "    def __init__(self, criterion, max_depth=None, data=a, res=b):\n",
    "        self.criterion = criterion\n",
    "        self.max_depth = max_depth\n",
    "        self.root = Node(data=data, res=res, criterion=criterion, depth=0, question=None)\n",
    "        self.feat_impo = np.zeros(30)\n",
    "        #self.build_tree(self.root)\n",
    "    \n",
    "    def build_tree(self, current):\n",
    "        if self.max_depth != None:\n",
    "            if current.depth+1 > self.max_depth:\n",
    "                return\n",
    "            else:\n",
    "                current.left = Node(data=None, res=None, criterion=self.criterion, depth=current.depth+1, question=None)\n",
    "                current.right = Node(data=None, res=None, criterion=self.criterion, depth=current.depth+1, question=None)\n",
    "                current.question = best_split(current.data, current.res, self.criterion)\n",
    "                if current.question == None:\n",
    "                    current.isLeaf = True\n",
    "                    current.left = None\n",
    "                    current.right = None\n",
    "                else:\n",
    "                    current.left.data, current.right.data, current.left.res, current.right.res = partition(current.data, current.res, current.question.feature, current.question.pivot)\n",
    "                    self.feat_impo[current.question.feature] += 1\n",
    "            if not current.isLeaf:\n",
    "                self.build_tree(current.left)\n",
    "                self.build_tree(current.right)\n",
    "            else:\n",
    "                return\n",
    "                \n",
    "    def build_rand(self, current, feats):\n",
    "        current.left = Node(data=None, res=None, criterion=current.criterion, depth=current.depth+1, question=None)\n",
    "        current.right = Node(data=None, res=None, criterion=current.criterion, depth=current.depth+1, question=None)\n",
    "        current.question = split(current.data, current.res, current.criterion, feats)\n",
    "        if current.question == None:\n",
    "            current.isLeaf = True\n",
    "            current.left = None\n",
    "            current.right = None\n",
    "        else:\n",
    "            current.left.data, current.right.data, current.left.res, current.right.res = partition(current.data, current.res, current.question.feature, current.question.pivot)\n",
    "        if not current.isLeaf:\n",
    "            self.build_rand(current.left, feats)\n",
    "            self.build_rand(current.right, feats)\n",
    "        else:\n",
    "            return\n",
    "                    \n",
    "    def predict(self, data):\n",
    "        pred = []\n",
    "        for i in range(len(data)):\n",
    "            current = self.root\n",
    "            while current.question != None:\n",
    "                if data[i][current.question.feature] >= current.question.pivot:\n",
    "                    current = current.left\n",
    "                else:\n",
    "                    current = current.right\n",
    "            p0, p1 = 0, 0\n",
    "            for result in current.res:\n",
    "                if result == 0:\n",
    "                    p0 += 1\n",
    "                else:\n",
    "                    p1 += 1\n",
    "            if p0 >= p1:\n",
    "                pred.append(0)\n",
    "            else:\n",
    "                pred.append(1)\n",
    "        return pred"
   ]
  },
  {
   "cell_type": "markdown",
   "metadata": {},
   "source": [
    "### Question 2.1\n",
    "Using Criterion=‘gini’, showing the accuracy score of test data by Max_depth=3 and Max_depth=10, respectively.\n"
   ]
  },
  {
   "cell_type": "code",
   "execution_count": 14,
   "metadata": {},
   "outputs": [
    {
     "name": "stdout",
     "output_type": "stream",
     "text": [
      "clf_depth3 accuracy score: 0.9300699300699301\n"
     ]
    }
   ],
   "source": [
    "clf_depth3 = DecisionTree(criterion='gini', max_depth=3)\n",
    "clf_depth3.build_tree(clf_depth3.root)\n",
    "clf_depth3_pred = clf_depth3.predict(c)\n",
    "print(\"clf_depth3 accuracy score: {}\".format(accuracy_score(d, clf_depth3_pred)))"
   ]
  },
  {
   "cell_type": "code",
   "execution_count": 15,
   "metadata": {},
   "outputs": [
    {
     "name": "stdout",
     "output_type": "stream",
     "text": [
      "clf_depth10 accuracy score: 0.9300699300699301\n"
     ]
    }
   ],
   "source": [
    "clf_depth10 = DecisionTree(criterion='gini', max_depth=10)\n",
    "clf_depth10.build_tree(clf_depth10.root)\n",
    "clf_depth10_pred = clf_depth10.predict(c)\n",
    "print(\"clf_depth10 accuracy score: {}\".format(accuracy_score(d, clf_depth10_pred)))"
   ]
  },
  {
   "cell_type": "markdown",
   "metadata": {},
   "source": [
    "### Question 2.2\n",
    "Using Max_depth=3, showing the accuracy score of test data by Criterion=‘gini’ and Criterion=’entropy’, respectively.\n"
   ]
  },
  {
   "cell_type": "code",
   "execution_count": 16,
   "metadata": {},
   "outputs": [
    {
     "name": "stdout",
     "output_type": "stream",
     "text": [
      "clf_gini accuracy score: 0.9300699300699301\n"
     ]
    }
   ],
   "source": [
    "clf_gini = DecisionTree(criterion='gini', max_depth=3)\n",
    "clf_gini.build_tree(clf_gini.root)\n",
    "clf_gini_pred = clf_gini.predict(c)\n",
    "print(\"clf_gini accuracy score: {}\".format(accuracy_score(d, clf_gini_pred)))"
   ]
  },
  {
   "cell_type": "code",
   "execution_count": 17,
   "metadata": {},
   "outputs": [
    {
     "name": "stdout",
     "output_type": "stream",
     "text": [
      "clf_entroy accuracy score: 0.9300699300699301\n"
     ]
    }
   ],
   "source": [
    "clf_entropy = DecisionTree(criterion='entropy', max_depth=3)\n",
    "clf_entropy.build_tree(clf_entropy.root)\n",
    "clf_entropy_pred = clf_entropy.predict(c)\n",
    "print(\"clf_entroy accuracy score: {}\".format(accuracy_score(d, clf_entropy_pred)))"
   ]
  },
  {
   "cell_type": "markdown",
   "metadata": {},
   "source": [
    "- Note: All of your accuracy scores should over 0.9\n",
    "- Note: You should get the same results when re-building the model with the same arguments,  no need to prune the trees\n",
    "- Hint: You can use the recursive method to build the nodes\n"
   ]
  },
  {
   "cell_type": "markdown",
   "metadata": {},
   "source": [
    "## Question 3\n",
    "Plot the [feature importance](https://sefiks.com/2020/04/06/feature-importance-in-decision-trees/) of your Decision Tree model. You can get the feature importance by counting the feature used for splitting data.\n",
    "\n",
    "- You can simply plot the feature counts for building tree without normalize the importance\n",
    "\n",
    "![image](https://i2.wp.com/sefiks.com/wp-content/uploads/2020/04/c45-fi-results.jpg?w=481&ssl=1)"
   ]
  },
  {
   "cell_type": "code",
   "execution_count": 18,
   "metadata": {},
   "outputs": [
    {
     "data": {
      "text/plain": [
       "<BarContainer object of 30 artists>"
      ]
     },
     "execution_count": 18,
     "metadata": {},
     "output_type": "execute_result"
    },
    {
     "data": {
      "image/png": "[encoded data removed]",
      "text/plain": [
       "<Figure size 1080x648 with 1 Axes>"
      ]
     },
     "metadata": {
      "needs_background": "light"
     },
     "output_type": "display_data"
    }
   ],
   "source": [
    "importance = clf_depth10.feat_impo\n",
    "#print(importance)\n",
    "x = np.array(features)\n",
    "plt.figure(figsize = (15,9))\n",
    "plt.title('feature importnace of my Decision Tree model')\n",
    "\n",
    "plt.barh(x, importance, height=0.6)"
   ]
  },
  {
   "cell_type": "markdown",
   "metadata": {},
   "source": [
    "## Question 4\n",
    "implement the Random Forest algorithm by using the CART you just implemented from question 2. You should implement two arguments for the Random Forest.\n",
    "\n",
    "1. **N_estimators**: The number of trees in the forest. \n",
    "2. **Max_features**: The number of random select features to consider when looking for the best split\n",
    "3. **Bootstrap**: Whether bootstrap samples are used when building tree\n"
   ]
  },
  {
   "cell_type": "code",
   "execution_count": 19,
   "metadata": {},
   "outputs": [],
   "source": [
    "class RandomForest():\n",
    "    def __init__(self, n_estimators, max_features, bootstrap=True, criterion='gini', max_depth=None):\n",
    "        self.trees = []\n",
    "        self.num_tree = n_estimators\n",
    "        self.max_features = int(max_features)\n",
    "        self.boot = bootstrap\n",
    "        self.criterion = criterion\n",
    "        self.max_depth = max_depth\n",
    "        self.build_forest()\n",
    "    \n",
    "    def build_forest(self):\n",
    "        _space = np.linspace(0, len(a)-1, len(a), dtype='int')\n",
    "        for case in range(self.num_tree):\n",
    "            sample_rows = []\n",
    "            sample_data = []\n",
    "            sample_res = []\n",
    "            if self.boot:\n",
    "                for i in range(len(a)):\n",
    "                    sample_rows.append(random.choice(_space))\n",
    "\n",
    "                for row in sample_rows:\n",
    "                    sample_data.append(a[row][:])\n",
    "                    sample_res.append(b[row])\n",
    "                    \n",
    "            else:\n",
    "                for i in range(len(a)):\n",
    "                    sample_rows.append(a[i][:])\n",
    "                    sample_res.append(b[i])\n",
    "            \n",
    "            feat_l = np.linspace(0, len(features)-1, len(features), dtype='int')\n",
    "            feats = random.sample(list(feat_l), self.max_features)\n",
    "            tree = DecisionTree(criterion=self.criterion, max_depth=self.max_depth, data=sample_data, res=sample_res)\n",
    "            tree.build_rand(tree.root, feats=feats)\n",
    "            self.trees.append(tree)\n",
    "            \n",
    "    def predict(self, data):\n",
    "        pred_all = []\n",
    "        pred = []\n",
    "        for vote in range(self.num_tree):\n",
    "            pred_all.append(self.trees[vote].predict(data))\n",
    "        \n",
    "        for i in range(len(data)):\n",
    "            _0, _1 = 0, 0\n",
    "            for j in range(self.num_tree):\n",
    "                if pred_all[j][i] == 0:\n",
    "                    _0 += 1\n",
    "                else:\n",
    "                    _1 += 1\n",
    "                    \n",
    "            if _0 >= _1:\n",
    "                pred.append(0)\n",
    "            else:\n",
    "                pred.append(1)\n",
    "                \n",
    "        return pred"
   ]
  },
  {
   "cell_type": "markdown",
   "metadata": {},
   "source": [
    "### Question 4.1\n",
    "Using Criterion=‘gini’, Max_depth=None, Max_features=sqrt(n_features), showing the accuracy score of test data by n_estimators=10 and n_estimators=100, respectively.\n"
   ]
  },
  {
   "cell_type": "code",
   "execution_count": 20,
   "metadata": {},
   "outputs": [
    {
     "name": "stdout",
     "output_type": "stream",
     "text": [
      "accuracy score: 0.958041958041958\n"
     ]
    }
   ],
   "source": [
    "clf_10tree = RandomForest(n_estimators=10, max_features=np.sqrt(x_train.shape[1]))\n",
    "clf_10tree_pred = clf_10tree.predict(c)\n",
    "print(\"accuracy score: {}\".format(accuracy_score(d, clf_10tree_pred)))"
   ]
  },
  {
   "cell_type": "code",
   "execution_count": 26,
   "metadata": {},
   "outputs": [
    {
     "name": "stdout",
     "output_type": "stream",
     "text": [
      "accuracy score: 0.9300699300699301\n",
      "-1125.2552237510681\n"
     ]
    }
   ],
   "source": [
    "tstart = time.time()\n",
    "clf_100tree = RandomForest(n_estimators=100, max_features=np.sqrt(x_train.shape[1]))\n",
    "clf_100tree_pred = clf_100tree.predict(c)\n",
    "print(\"accuracy score: {}\".format(accuracy_score(d, clf_100tree_pred)))\n",
    "tend = time.time()\n",
    "print(tend - tstart)"
   ]
  },
  {
   "cell_type": "markdown",
   "metadata": {},
   "source": [
    "### Question 4.2\n",
    "Using Criterion=‘gini’, Max_depth=None, N_estimators=10, showing the accuracy score of test data by Max_features=sqrt(n_features) and Max_features=n_features, respectively.\n"
   ]
  },
  {
   "cell_type": "code",
   "execution_count": 27,
   "metadata": {},
   "outputs": [
    {
     "name": "stdout",
     "output_type": "stream",
     "text": [
      "accuracy score: 0.9370629370629371\n"
     ]
    }
   ],
   "source": [
    "clf_all_features = RandomForest(n_estimators=10, max_features=np.sqrt(x_train.shape[1]))\n",
    "clf_all_features_pred = clf_all_features.predict(c)\n",
    "print(\"accuracy score: {}\".format(accuracy_score(d, clf_all_features_pred)))"
   ]
  },
  {
   "cell_type": "code",
   "execution_count": null,
   "metadata": {},
   "outputs": [],
   "source": [
    "tstart = time.time()\n",
    "clf_random_features = RandomForest(n_estimators=10, max_features=x_train.shape[1])\n",
    "clf_random_features_pred = clf_random_features.predict(c)\n",
    "print(\"accuracy score: {}\".format(accuracy_score(d, clf_random_features_pred)))\n",
    "tend = time.time()\n",
    "print(tend - tstart)"
   ]
  },
  {
   "cell_type": "markdown",
   "metadata": {},
   "source": [
    "- Note: Use majority votes to get the final prediction, you may get slightly different results when re-building the random forest model"
   ]
  },
  {
   "cell_type": "code",
   "execution_count": null,
   "metadata": {},
   "outputs": [],
   "source": []
  },
  {
   "cell_type": "markdown",
   "metadata": {},
   "source": [
    "## Supplementary\n",
    "If you have trouble to implement this homework, TA strongly recommend watching [this video](https://www.youtube.com/watch?v=LDRbO9a6XPU), which explains Decision Tree model clearly. But don't copy code from any resources, try to finish this homework by yourself! "
   ]
  },
  {
   "cell_type": "code",
   "execution_count": null,
   "metadata": {},
   "outputs": [],
   "source": []
  }
 ],
 "metadata": {
  "kernelspec": {
   "display_name": "Python 3",
   "language": "python",
   "name": "python3"
  },
  "language_info": {
   "codemirror_mode": {
    "name": "ipython",
    "version": 3
   },
   "file_extension": ".py",
   "mimetype": "text/x-python",
   "name": "python",
   "nbconvert_exporter": "python",
   "pygments_lexer": "ipython3",
   "version": "3.7.7"
  }
 },
 "nbformat": 4,
 "nbformat_minor": 4
}
